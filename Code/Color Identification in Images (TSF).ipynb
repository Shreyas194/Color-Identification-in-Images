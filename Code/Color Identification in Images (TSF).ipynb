{
 "cells": [
  {
   "cell_type": "markdown",
   "metadata": {},
   "source": [
    "## Name: Shreyas Sinha\n",
    "## IoT and Computer Vision Intern at The Sparks Foundation\n",
    "### Batch: Mar-21\n",
    "---\n",
    "## Task: Color Identification in Images"
   ]
  },
  {
   "cell_type": "code",
   "execution_count": 1,
   "metadata": {},
   "outputs": [],
   "source": [
    "# importing libraries\n",
    "import pyautogui\n",
    "import cv2\n",
    "import tkinter as tk\n",
    "import webcolors as wc\n",
    "from webcolors import css3_hex_to_names,hex_to_rgb\n",
    "from scipy.spatial import KDTree"
   ]
  },
  {
   "cell_type": "code",
   "execution_count": 2,
   "metadata": {},
   "outputs": [],
   "source": [
    "# function to detect color\n",
    "def getcolor(color_tuple):\n",
    "    root = tk.Tk()\n",
    "    # try and except as every value cannot be converted to a color\n",
    "    try:\n",
    "        # get the name of color from rgb value\n",
    "        color = wc.rgb_to_name(color_tuple)\n",
    "            \n",
    "    except ValueError:\n",
    "        # if value invaild then call getnearestcolor function\n",
    "        # to find nearest possible color\n",
    "        color = getnearestcolor(color_tuple)\n",
    "    \n",
    "    # displaying color in a small window using tkinter\n",
    "    if color == \"black\":\n",
    "        tk.Label(root,text=color,fg=\"white\",bg=color,font=\"Times 32\").pack()\n",
    "    else:\n",
    "        tk.Label(root,text=color,fg=\"black\",bg=color,font=\"Times 32\").pack()\n",
    "    \n",
    "    root.after(1700, lambda: root.destroy())\n",
    "    root.mainloop()"
   ]
  },
  {
   "cell_type": "code",
   "execution_count": 3,
   "metadata": {},
   "outputs": [],
   "source": [
    "# function to find the nearest possible color if the values\n",
    "# fails to be put into a color\n",
    "def getnearestcolor(rgb_tuple):\n",
    "    # KDTree finds the closest matched hex code for\n",
    "    # given RGB values that has a color name\n",
    "    kdt_db = KDTree(rgb_values)\n",
    "    distance, index = kdt_db.query(rgb_tuple)\n",
    "    return names[index]"
   ]
  },
  {
   "cell_type": "code",
   "execution_count": 4,
   "metadata": {},
   "outputs": [],
   "source": [
    "# detect mouse click event in an image\n",
    "def mouse_click(event, x, y, flags, params):\n",
    "    # detect left mouse click and get pixel color\n",
    "    if event == cv2.EVENT_LBUTTONDOWN:\n",
    "        x, y = pyautogui.position()\n",
    "        pixel_tuple = pyautogui.screenshot().getpixel((x, y))\n",
    "        \n",
    "        getcolor(pixel_tuple)"
   ]
  },
  {
   "cell_type": "code",
   "execution_count": 5,
   "metadata": {},
   "outputs": [],
   "source": [
    "if __name__ == \"__main__\":\n",
    "    \n",
    "    # storing hex_to_names database into a varible for later use\n",
    "    css3_db = css3_hex_to_names\n",
    "    names = []\n",
    "    rgb_values = []\n",
    "    \n",
    "    # append each color name and rgb value in different lists\n",
    "    for color_hex, color_name in css3_db.items():\n",
    "        names.append(color_name)\n",
    "        rgb_values.append(hex_to_rgb(color_hex))\n",
    " \n",
    "    img = cv2.imread('testing 3.jpg', 1) \n",
    " \n",
    "    cv2.imshow('image', img) \n",
    " \n",
    "    cv2.setMouseCallback('image', mouse_click)   # callback function for mouse click event\n",
    " \n",
    "    cv2.waitKey(0) \n",
    " \n",
    "    cv2.destroyAllWindows()"
   ]
  }
 ],
 "metadata": {
  "kernelspec": {
   "display_name": "Python 3",
   "language": "python",
   "name": "python3"
  },
  "language_info": {
   "codemirror_mode": {
    "name": "ipython",
    "version": 3
   },
   "file_extension": ".py",
   "mimetype": "text/x-python",
   "name": "python",
   "nbconvert_exporter": "python",
   "pygments_lexer": "ipython3",
   "version": "3.8.1"
  }
 },
 "nbformat": 4,
 "nbformat_minor": 4
}
